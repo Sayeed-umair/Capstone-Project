{
 "cells": [
  {
   "cell_type": "markdown",
   "metadata": {
    "id": "Lh0vGKmoFXCu"
   },
   "source": [
    "<div align=\"center\">\n",
    "    <h1><b><u>TRAFFIC OPTIMIZATION</u></b></h1>\n",
    "</div>\n"
   ]
  },
  {
   "cell_type": "markdown",
   "metadata": {
    "id": "ejLsq8RcNhap"
   },
   "source": [
    "**GROUP NUMBER: 7**\n",
    "     \n",
    "**GROUP MEMBERS**\n",
    "   \n",
    "- **Adebola**\n",
    "- **Rahim**\n",
    "- **Sayeed**\n",
    "- **Yinka**\n",
    "- **Minto**\n",
    "   "
   ]
  },
  {
   "cell_type": "markdown",
   "metadata": {
    "id": "K-hnnhNJMuar"
   },
   "source": [
    "<div align=\"center\">\n",
    "    <h3><b><u>2. Hypothesis Testing: Accidents in the Evening</u></b></h3>\n",
    "</div>\n"
   ]
  },
  {
   "cell_type": "markdown",
   "metadata": {
    "id": "xzTTb-A6FcOZ"
   },
   "source": [
    "#### **Null Hypothesis H<sub>0</sub>:**\n",
    "The proportion of accidents in the evening is less than or equal to the proportion of accidents at other times of the day.\n",
    "\n",
    "$ H_{0}: P_{Evening} \\leq P_{OtherTimes} $\n",
    "\n",
    "\n",
    "#### **Alternate Hypothesis H<sub>a</sub>:**\n",
    "The proportion of accidents in the evening is greater than the proportion of accidents at other times of the day.\n",
    "\n",
    "$ H_{A}: P_{Evening} > P_{OtherTimes} $\n",
    "\n",
    "This is a **one-tailed hypothesis test**, we are testing if the proportion of accidents in the evening is greater than at other times.\n"
   ]
  },
  {
   "cell_type": "code",
   "execution_count": 3,
   "metadata": {
    "executionInfo": {
     "elapsed": 7033,
     "status": "ok",
     "timestamp": 1738281598084,
     "user": {
      "displayName": "Jeevitha Chandrasekar",
      "userId": "02238115109523565380"
     },
     "user_tz": 300
    },
    "id": "zmiM-yppEIaK"
   },
   "outputs": [],
   "source": [
    "#Libraries\n",
    "import numpy as np\n",
    "import pandas as pd\n",
    "import matplotlib.pyplot as plt\n",
    "import seaborn as sns\n",
    "from statsmodels.stats.proportion import proportions_ztest"
   ]
  },
  {
   "cell_type": "markdown",
   "metadata": {
    "id": "WrzaulyCLtbB"
   },
   "source": [
    "#### **1. Data Import**"
   ]
  },
  {
   "cell_type": "code",
   "execution_count": 5,
   "metadata": {
    "colab": {
     "base_uri": "https://localhost:8080/",
     "height": 515
    },
    "executionInfo": {
     "elapsed": 200,
     "status": "ok",
     "timestamp": 1737520867474,
     "user": {
      "displayName": "Jeevitha Chandrasekar",
      "userId": "02238115109523565380"
     },
     "user_tz": 300
    },
    "id": "trX2lOsfEU-n",
    "outputId": "e3d894dd-b637-47fd-a07f-c4c5121a16be"
   },
   "outputs": [
    {
     "data": {
      "text/html": [
       "<div>\n",
       "<style scoped>\n",
       "    .dataframe tbody tr th:only-of-type {\n",
       "        vertical-align: middle;\n",
       "    }\n",
       "\n",
       "    .dataframe tbody tr th {\n",
       "        vertical-align: top;\n",
       "    }\n",
       "\n",
       "    .dataframe thead th {\n",
       "        text-align: right;\n",
       "    }\n",
       "</style>\n",
       "<table border=\"1\" class=\"dataframe\">\n",
       "  <thead>\n",
       "    <tr style=\"text-align: right;\">\n",
       "      <th></th>\n",
       "      <th>_id</th>\n",
       "      <th>ACCNUM</th>\n",
       "      <th>DATE</th>\n",
       "      <th>TIME</th>\n",
       "      <th>STREET1</th>\n",
       "      <th>STREET2</th>\n",
       "      <th>OFFSET</th>\n",
       "      <th>ROAD_CLASS</th>\n",
       "      <th>DISTRICT</th>\n",
       "      <th>ACCLOC</th>\n",
       "      <th>...</th>\n",
       "      <th>AG_DRIV</th>\n",
       "      <th>REDLIGHT</th>\n",
       "      <th>ALCOHOL</th>\n",
       "      <th>DISABILITY</th>\n",
       "      <th>HOOD_158</th>\n",
       "      <th>NEIGHBOURHOOD_158</th>\n",
       "      <th>HOOD_140</th>\n",
       "      <th>NEIGHBOURHOOD_140</th>\n",
       "      <th>DIVISION</th>\n",
       "      <th>geometry</th>\n",
       "    </tr>\n",
       "  </thead>\n",
       "  <tbody>\n",
       "    <tr>\n",
       "      <th>0</th>\n",
       "      <td>1</td>\n",
       "      <td>893184.0</td>\n",
       "      <td>2006-01-01</td>\n",
       "      <td>236</td>\n",
       "      <td>WOODBINE AVE</td>\n",
       "      <td>O CONNOR DR</td>\n",
       "      <td>NaN</td>\n",
       "      <td>Major Arterial</td>\n",
       "      <td>Toronto and East York</td>\n",
       "      <td>Intersection Related</td>\n",
       "      <td>...</td>\n",
       "      <td>Yes</td>\n",
       "      <td>NaN</td>\n",
       "      <td>Yes</td>\n",
       "      <td>NaN</td>\n",
       "      <td>60</td>\n",
       "      <td>Woodbine-Lumsden</td>\n",
       "      <td>60</td>\n",
       "      <td>Woodbine-Lumsden (60)</td>\n",
       "      <td>D55</td>\n",
       "      <td>{'type': 'MultiPoint', 'coordinates': [[-79.31...</td>\n",
       "    </tr>\n",
       "    <tr>\n",
       "      <th>1</th>\n",
       "      <td>2</td>\n",
       "      <td>893184.0</td>\n",
       "      <td>2006-01-01</td>\n",
       "      <td>236</td>\n",
       "      <td>WOODBINE AVE</td>\n",
       "      <td>O CONNOR DR</td>\n",
       "      <td>NaN</td>\n",
       "      <td>Major Arterial</td>\n",
       "      <td>Toronto and East York</td>\n",
       "      <td>Intersection Related</td>\n",
       "      <td>...</td>\n",
       "      <td>Yes</td>\n",
       "      <td>NaN</td>\n",
       "      <td>Yes</td>\n",
       "      <td>NaN</td>\n",
       "      <td>60</td>\n",
       "      <td>Woodbine-Lumsden</td>\n",
       "      <td>60</td>\n",
       "      <td>Woodbine-Lumsden (60)</td>\n",
       "      <td>D55</td>\n",
       "      <td>{'type': 'MultiPoint', 'coordinates': [[-79.31...</td>\n",
       "    </tr>\n",
       "    <tr>\n",
       "      <th>2</th>\n",
       "      <td>3</td>\n",
       "      <td>893184.0</td>\n",
       "      <td>2006-01-01</td>\n",
       "      <td>236</td>\n",
       "      <td>WOODBINE AVE</td>\n",
       "      <td>O CONNOR DR</td>\n",
       "      <td>NaN</td>\n",
       "      <td>Major Arterial</td>\n",
       "      <td>Toronto and East York</td>\n",
       "      <td>Intersection Related</td>\n",
       "      <td>...</td>\n",
       "      <td>Yes</td>\n",
       "      <td>NaN</td>\n",
       "      <td>Yes</td>\n",
       "      <td>NaN</td>\n",
       "      <td>60</td>\n",
       "      <td>Woodbine-Lumsden</td>\n",
       "      <td>60</td>\n",
       "      <td>Woodbine-Lumsden (60)</td>\n",
       "      <td>D55</td>\n",
       "      <td>{'type': 'MultiPoint', 'coordinates': [[-79.31...</td>\n",
       "    </tr>\n",
       "    <tr>\n",
       "      <th>3</th>\n",
       "      <td>4</td>\n",
       "      <td>893184.0</td>\n",
       "      <td>2006-01-01</td>\n",
       "      <td>236</td>\n",
       "      <td>WOODBINE AVE</td>\n",
       "      <td>O CONNOR DR</td>\n",
       "      <td>NaN</td>\n",
       "      <td>Major Arterial</td>\n",
       "      <td>Toronto and East York</td>\n",
       "      <td>Intersection Related</td>\n",
       "      <td>...</td>\n",
       "      <td>Yes</td>\n",
       "      <td>NaN</td>\n",
       "      <td>Yes</td>\n",
       "      <td>NaN</td>\n",
       "      <td>60</td>\n",
       "      <td>Woodbine-Lumsden</td>\n",
       "      <td>60</td>\n",
       "      <td>Woodbine-Lumsden (60)</td>\n",
       "      <td>D55</td>\n",
       "      <td>{'type': 'MultiPoint', 'coordinates': [[-79.31...</td>\n",
       "    </tr>\n",
       "    <tr>\n",
       "      <th>4</th>\n",
       "      <td>5</td>\n",
       "      <td>893184.0</td>\n",
       "      <td>2006-01-01</td>\n",
       "      <td>236</td>\n",
       "      <td>WOODBINE AVE</td>\n",
       "      <td>O CONNOR DR</td>\n",
       "      <td>NaN</td>\n",
       "      <td>Major Arterial</td>\n",
       "      <td>Toronto and East York</td>\n",
       "      <td>Intersection Related</td>\n",
       "      <td>...</td>\n",
       "      <td>Yes</td>\n",
       "      <td>NaN</td>\n",
       "      <td>Yes</td>\n",
       "      <td>NaN</td>\n",
       "      <td>60</td>\n",
       "      <td>Woodbine-Lumsden</td>\n",
       "      <td>60</td>\n",
       "      <td>Woodbine-Lumsden (60)</td>\n",
       "      <td>D55</td>\n",
       "      <td>{'type': 'MultiPoint', 'coordinates': [[-79.31...</td>\n",
       "    </tr>\n",
       "  </tbody>\n",
       "</table>\n",
       "<p>5 rows × 50 columns</p>\n",
       "</div>"
      ],
      "text/plain": [
       "   _id    ACCNUM        DATE  TIME       STREET1      STREET2 OFFSET  \\\n",
       "0    1  893184.0  2006-01-01   236  WOODBINE AVE  O CONNOR DR    NaN   \n",
       "1    2  893184.0  2006-01-01   236  WOODBINE AVE  O CONNOR DR    NaN   \n",
       "2    3  893184.0  2006-01-01   236  WOODBINE AVE  O CONNOR DR    NaN   \n",
       "3    4  893184.0  2006-01-01   236  WOODBINE AVE  O CONNOR DR    NaN   \n",
       "4    5  893184.0  2006-01-01   236  WOODBINE AVE  O CONNOR DR    NaN   \n",
       "\n",
       "       ROAD_CLASS               DISTRICT                ACCLOC  ... AG_DRIV  \\\n",
       "0  Major Arterial  Toronto and East York  Intersection Related  ...     Yes   \n",
       "1  Major Arterial  Toronto and East York  Intersection Related  ...     Yes   \n",
       "2  Major Arterial  Toronto and East York  Intersection Related  ...     Yes   \n",
       "3  Major Arterial  Toronto and East York  Intersection Related  ...     Yes   \n",
       "4  Major Arterial  Toronto and East York  Intersection Related  ...     Yes   \n",
       "\n",
       "  REDLIGHT ALCOHOL DISABILITY HOOD_158 NEIGHBOURHOOD_158 HOOD_140  \\\n",
       "0      NaN     Yes        NaN       60  Woodbine-Lumsden       60   \n",
       "1      NaN     Yes        NaN       60  Woodbine-Lumsden       60   \n",
       "2      NaN     Yes        NaN       60  Woodbine-Lumsden       60   \n",
       "3      NaN     Yes        NaN       60  Woodbine-Lumsden       60   \n",
       "4      NaN     Yes        NaN       60  Woodbine-Lumsden       60   \n",
       "\n",
       "       NEIGHBOURHOOD_140 DIVISION  \\\n",
       "0  Woodbine-Lumsden (60)      D55   \n",
       "1  Woodbine-Lumsden (60)      D55   \n",
       "2  Woodbine-Lumsden (60)      D55   \n",
       "3  Woodbine-Lumsden (60)      D55   \n",
       "4  Woodbine-Lumsden (60)      D55   \n",
       "\n",
       "                                            geometry  \n",
       "0  {'type': 'MultiPoint', 'coordinates': [[-79.31...  \n",
       "1  {'type': 'MultiPoint', 'coordinates': [[-79.31...  \n",
       "2  {'type': 'MultiPoint', 'coordinates': [[-79.31...  \n",
       "3  {'type': 'MultiPoint', 'coordinates': [[-79.31...  \n",
       "4  {'type': 'MultiPoint', 'coordinates': [[-79.31...  \n",
       "\n",
       "[5 rows x 50 columns]"
      ]
     },
     "execution_count": 5,
     "metadata": {},
     "output_type": "execute_result"
    }
   ],
   "source": [
    "# Importing the Data\n",
    "data=pd.read_csv('data/Motor_Vehicle_Collisions_with_KSI_Data_4326.csv')\n",
    "\n",
    "# Viewing first 5 records\n",
    "data.head()"
   ]
  },
  {
   "cell_type": "markdown",
   "metadata": {
    "id": "XRnd4usOL3p7"
   },
   "source": [
    "#### **2. DATA PRE-PROCESSING**"
   ]
  },
  {
   "cell_type": "markdown",
   "metadata": {
    "id": "tc6yzsBnH2q8"
   },
   "source": [
    "- Create a new column called 'TimeOfDay' having two values : 'Daytime' and 'Evening'"
   ]
  },
  {
   "cell_type": "code",
   "execution_count": 6,
   "metadata": {
    "id": "y12EFD-kEvjH"
   },
   "outputs": [],
   "source": [
    "# Convert TIME column to string and pad with zeros\n",
    "data['TIME'] = data['TIME'].astype(str).str.zfill(4)\n",
    "\n",
    "# Combine DATE and TIME to create a DATETIME column\n",
    "data['DATETIME'] = pd.to_datetime(data['DATE'] + ' ' + data['TIME'], format='%Y-%m-%d %H%M')\n",
    "\n",
    "# Extract hour from the DATETIME column\n",
    "data['Hour'] = data['DATETIME'].dt.hour\n",
    "\n",
    "# Create a new column 'TimeOfDay' based on the hour\n",
    "data['TimeOfDay'] = data['Hour'].apply(lambda x: 'Daytime' if x < 17 else 'Evening')\n",
    "\n"
   ]
  },
  {
   "cell_type": "code",
   "execution_count": 7,
   "metadata": {
    "colab": {
     "base_uri": "https://localhost:8080/",
     "height": 515
    },
    "executionInfo": {
     "elapsed": 21,
     "status": "ok",
     "timestamp": 1737520867763,
     "user": {
      "displayName": "Jeevitha Chandrasekar",
      "userId": "02238115109523565380"
     },
     "user_tz": 300
    },
    "id": "b-80BxX7FUSa",
    "outputId": "f6c376d1-e718-45c7-9104-fd7792cd034b"
   },
   "outputs": [
    {
     "data": {
      "text/html": [
       "<div>\n",
       "<style scoped>\n",
       "    .dataframe tbody tr th:only-of-type {\n",
       "        vertical-align: middle;\n",
       "    }\n",
       "\n",
       "    .dataframe tbody tr th {\n",
       "        vertical-align: top;\n",
       "    }\n",
       "\n",
       "    .dataframe thead th {\n",
       "        text-align: right;\n",
       "    }\n",
       "</style>\n",
       "<table border=\"1\" class=\"dataframe\">\n",
       "  <thead>\n",
       "    <tr style=\"text-align: right;\">\n",
       "      <th></th>\n",
       "      <th>_id</th>\n",
       "      <th>ACCNUM</th>\n",
       "      <th>DATE</th>\n",
       "      <th>TIME</th>\n",
       "      <th>STREET1</th>\n",
       "      <th>STREET2</th>\n",
       "      <th>OFFSET</th>\n",
       "      <th>ROAD_CLASS</th>\n",
       "      <th>DISTRICT</th>\n",
       "      <th>ACCLOC</th>\n",
       "      <th>...</th>\n",
       "      <th>DISABILITY</th>\n",
       "      <th>HOOD_158</th>\n",
       "      <th>NEIGHBOURHOOD_158</th>\n",
       "      <th>HOOD_140</th>\n",
       "      <th>NEIGHBOURHOOD_140</th>\n",
       "      <th>DIVISION</th>\n",
       "      <th>geometry</th>\n",
       "      <th>DATETIME</th>\n",
       "      <th>Hour</th>\n",
       "      <th>TimeOfDay</th>\n",
       "    </tr>\n",
       "  </thead>\n",
       "  <tbody>\n",
       "    <tr>\n",
       "      <th>0</th>\n",
       "      <td>1</td>\n",
       "      <td>893184.0</td>\n",
       "      <td>2006-01-01</td>\n",
       "      <td>0236</td>\n",
       "      <td>WOODBINE AVE</td>\n",
       "      <td>O CONNOR DR</td>\n",
       "      <td>NaN</td>\n",
       "      <td>Major Arterial</td>\n",
       "      <td>Toronto and East York</td>\n",
       "      <td>Intersection Related</td>\n",
       "      <td>...</td>\n",
       "      <td>NaN</td>\n",
       "      <td>60</td>\n",
       "      <td>Woodbine-Lumsden</td>\n",
       "      <td>60</td>\n",
       "      <td>Woodbine-Lumsden (60)</td>\n",
       "      <td>D55</td>\n",
       "      <td>{'type': 'MultiPoint', 'coordinates': [[-79.31...</td>\n",
       "      <td>2006-01-01 02:36:00</td>\n",
       "      <td>2</td>\n",
       "      <td>Daytime</td>\n",
       "    </tr>\n",
       "    <tr>\n",
       "      <th>1</th>\n",
       "      <td>2</td>\n",
       "      <td>893184.0</td>\n",
       "      <td>2006-01-01</td>\n",
       "      <td>0236</td>\n",
       "      <td>WOODBINE AVE</td>\n",
       "      <td>O CONNOR DR</td>\n",
       "      <td>NaN</td>\n",
       "      <td>Major Arterial</td>\n",
       "      <td>Toronto and East York</td>\n",
       "      <td>Intersection Related</td>\n",
       "      <td>...</td>\n",
       "      <td>NaN</td>\n",
       "      <td>60</td>\n",
       "      <td>Woodbine-Lumsden</td>\n",
       "      <td>60</td>\n",
       "      <td>Woodbine-Lumsden (60)</td>\n",
       "      <td>D55</td>\n",
       "      <td>{'type': 'MultiPoint', 'coordinates': [[-79.31...</td>\n",
       "      <td>2006-01-01 02:36:00</td>\n",
       "      <td>2</td>\n",
       "      <td>Daytime</td>\n",
       "    </tr>\n",
       "    <tr>\n",
       "      <th>2</th>\n",
       "      <td>3</td>\n",
       "      <td>893184.0</td>\n",
       "      <td>2006-01-01</td>\n",
       "      <td>0236</td>\n",
       "      <td>WOODBINE AVE</td>\n",
       "      <td>O CONNOR DR</td>\n",
       "      <td>NaN</td>\n",
       "      <td>Major Arterial</td>\n",
       "      <td>Toronto and East York</td>\n",
       "      <td>Intersection Related</td>\n",
       "      <td>...</td>\n",
       "      <td>NaN</td>\n",
       "      <td>60</td>\n",
       "      <td>Woodbine-Lumsden</td>\n",
       "      <td>60</td>\n",
       "      <td>Woodbine-Lumsden (60)</td>\n",
       "      <td>D55</td>\n",
       "      <td>{'type': 'MultiPoint', 'coordinates': [[-79.31...</td>\n",
       "      <td>2006-01-01 02:36:00</td>\n",
       "      <td>2</td>\n",
       "      <td>Daytime</td>\n",
       "    </tr>\n",
       "    <tr>\n",
       "      <th>3</th>\n",
       "      <td>4</td>\n",
       "      <td>893184.0</td>\n",
       "      <td>2006-01-01</td>\n",
       "      <td>0236</td>\n",
       "      <td>WOODBINE AVE</td>\n",
       "      <td>O CONNOR DR</td>\n",
       "      <td>NaN</td>\n",
       "      <td>Major Arterial</td>\n",
       "      <td>Toronto and East York</td>\n",
       "      <td>Intersection Related</td>\n",
       "      <td>...</td>\n",
       "      <td>NaN</td>\n",
       "      <td>60</td>\n",
       "      <td>Woodbine-Lumsden</td>\n",
       "      <td>60</td>\n",
       "      <td>Woodbine-Lumsden (60)</td>\n",
       "      <td>D55</td>\n",
       "      <td>{'type': 'MultiPoint', 'coordinates': [[-79.31...</td>\n",
       "      <td>2006-01-01 02:36:00</td>\n",
       "      <td>2</td>\n",
       "      <td>Daytime</td>\n",
       "    </tr>\n",
       "    <tr>\n",
       "      <th>4</th>\n",
       "      <td>5</td>\n",
       "      <td>893184.0</td>\n",
       "      <td>2006-01-01</td>\n",
       "      <td>0236</td>\n",
       "      <td>WOODBINE AVE</td>\n",
       "      <td>O CONNOR DR</td>\n",
       "      <td>NaN</td>\n",
       "      <td>Major Arterial</td>\n",
       "      <td>Toronto and East York</td>\n",
       "      <td>Intersection Related</td>\n",
       "      <td>...</td>\n",
       "      <td>NaN</td>\n",
       "      <td>60</td>\n",
       "      <td>Woodbine-Lumsden</td>\n",
       "      <td>60</td>\n",
       "      <td>Woodbine-Lumsden (60)</td>\n",
       "      <td>D55</td>\n",
       "      <td>{'type': 'MultiPoint', 'coordinates': [[-79.31...</td>\n",
       "      <td>2006-01-01 02:36:00</td>\n",
       "      <td>2</td>\n",
       "      <td>Daytime</td>\n",
       "    </tr>\n",
       "  </tbody>\n",
       "</table>\n",
       "<p>5 rows × 53 columns</p>\n",
       "</div>"
      ],
      "text/plain": [
       "   _id    ACCNUM        DATE  TIME       STREET1      STREET2 OFFSET  \\\n",
       "0    1  893184.0  2006-01-01  0236  WOODBINE AVE  O CONNOR DR    NaN   \n",
       "1    2  893184.0  2006-01-01  0236  WOODBINE AVE  O CONNOR DR    NaN   \n",
       "2    3  893184.0  2006-01-01  0236  WOODBINE AVE  O CONNOR DR    NaN   \n",
       "3    4  893184.0  2006-01-01  0236  WOODBINE AVE  O CONNOR DR    NaN   \n",
       "4    5  893184.0  2006-01-01  0236  WOODBINE AVE  O CONNOR DR    NaN   \n",
       "\n",
       "       ROAD_CLASS               DISTRICT                ACCLOC  ...  \\\n",
       "0  Major Arterial  Toronto and East York  Intersection Related  ...   \n",
       "1  Major Arterial  Toronto and East York  Intersection Related  ...   \n",
       "2  Major Arterial  Toronto and East York  Intersection Related  ...   \n",
       "3  Major Arterial  Toronto and East York  Intersection Related  ...   \n",
       "4  Major Arterial  Toronto and East York  Intersection Related  ...   \n",
       "\n",
       "  DISABILITY HOOD_158 NEIGHBOURHOOD_158 HOOD_140      NEIGHBOURHOOD_140  \\\n",
       "0        NaN       60  Woodbine-Lumsden       60  Woodbine-Lumsden (60)   \n",
       "1        NaN       60  Woodbine-Lumsden       60  Woodbine-Lumsden (60)   \n",
       "2        NaN       60  Woodbine-Lumsden       60  Woodbine-Lumsden (60)   \n",
       "3        NaN       60  Woodbine-Lumsden       60  Woodbine-Lumsden (60)   \n",
       "4        NaN       60  Woodbine-Lumsden       60  Woodbine-Lumsden (60)   \n",
       "\n",
       "  DIVISION                                           geometry  \\\n",
       "0      D55  {'type': 'MultiPoint', 'coordinates': [[-79.31...   \n",
       "1      D55  {'type': 'MultiPoint', 'coordinates': [[-79.31...   \n",
       "2      D55  {'type': 'MultiPoint', 'coordinates': [[-79.31...   \n",
       "3      D55  {'type': 'MultiPoint', 'coordinates': [[-79.31...   \n",
       "4      D55  {'type': 'MultiPoint', 'coordinates': [[-79.31...   \n",
       "\n",
       "             DATETIME Hour  TimeOfDay  \n",
       "0 2006-01-01 02:36:00    2    Daytime  \n",
       "1 2006-01-01 02:36:00    2    Daytime  \n",
       "2 2006-01-01 02:36:00    2    Daytime  \n",
       "3 2006-01-01 02:36:00    2    Daytime  \n",
       "4 2006-01-01 02:36:00    2    Daytime  \n",
       "\n",
       "[5 rows x 53 columns]"
      ]
     },
     "execution_count": 7,
     "metadata": {},
     "output_type": "execute_result"
    }
   ],
   "source": [
    "data.head()"
   ]
  },
  {
   "cell_type": "markdown",
   "metadata": {
    "id": "bMx1vf58Ki2P"
   },
   "source": [
    "- Calculate the proportion of accidents that happen in the daytime.\n",
    "- Calculate the proportion of accidents that happen in the evening."
   ]
  },
  {
   "cell_type": "code",
   "execution_count": 8,
   "metadata": {
    "id": "_zCIs9jKJGZH"
   },
   "outputs": [],
   "source": [
    "# Count the number of \"Evening\" and \"Daytime\" occurrences\n",
    "evening_accidents = data[data['TimeOfDay'] == 'Evening'].shape[0]\n",
    "daytime_accidents = data[data['TimeOfDay'] == 'Daytime'].shape[0]\n",
    "total_accidents = data.shape[0]\n",
    "\n",
    "# Proportion of evening accidents\n",
    "p_evening = evening_accidents / total_accidents\n",
    "\n",
    "# Null hypothesis proportion (daytime accidents)\n",
    "p_daytime = daytime_accidents / total_accidents\n"
   ]
  },
  {
   "cell_type": "markdown",
   "metadata": {
    "id": "rk0zipL9Ob5x"
   },
   "source": [
    "#### **3. VIZUALIZATIONS**"
   ]
  },
  {
   "cell_type": "code",
   "execution_count": 9,
   "metadata": {
    "colab": {
     "base_uri": "https://localhost:8080/",
     "height": 472
    },
    "executionInfo": {
     "elapsed": 582,
     "status": "ok",
     "timestamp": 1737520868327,
     "user": {
      "displayName": "Jeevitha Chandrasekar",
      "userId": "02238115109523565380"
     },
     "user_tz": 300
    },
    "id": "pYiT2iEIOmeC",
    "outputId": "b0710d7c-cc21-4562-9169-62c77ea3ecb2"
   },
   "outputs": [
    {
     "data": {
      "image/png": "[encoded data removed]",
      "text/plain": [
       "<Figure size 640x480 with 1 Axes>"
      ]
     },
     "metadata": {},
     "output_type": "display_data"
    }
   ],
   "source": [
    "# Count plot for TimeOfDay\n",
    "sns.countplot(x='TimeOfDay', data=data)\n",
    "plt.title('Accidents by Time of Day')\n",
    "plt.xlabel('Time of Day')\n",
    "plt.ylabel('Number of Accidents')\n",
    "plt.show()\n"
   ]
  },
  {
   "cell_type": "code",
   "execution_count": 10,
   "metadata": {
    "colab": {
     "base_uri": "https://localhost:8080/",
     "height": 428
    },
    "executionInfo": {
     "elapsed": 19,
     "status": "ok",
     "timestamp": 1737520868328,
     "user": {
      "displayName": "Jeevitha Chandrasekar",
      "userId": "02238115109523565380"
     },
     "user_tz": 300
    },
    "id": "z31pgCaFOxgy",
    "outputId": "cfd0eda1-e2a7-4e07-de3c-0bd2de01317b"
   },
   "outputs": [
    {
     "data": {
      "image/png": "[encoded data removed]",
      "text/plain": [
       "<Figure size 640x480 with 1 Axes>"
      ]
     },
     "metadata": {},
     "output_type": "display_data"
    }
   ],
   "source": [
    "# Calculate proportions\n",
    "proportions = data['TimeOfDay'].value_counts(normalize=True)\n",
    "\n",
    "# Pie chart\n",
    "plt.pie(proportions, labels=proportions.index, autopct='%1.1f%%', startangle=90)\n",
    "plt.title('Proportion of Accidents by Time of Day')\n",
    "plt.show()"
   ]
  },
  {
   "cell_type": "code",
   "execution_count": 12,
   "metadata": {
    "colab": {
     "base_uri": "https://localhost:8080/",
     "height": 472
    },
    "executionInfo": {
     "elapsed": 534,
     "status": "ok",
     "timestamp": 1737520868844,
     "user": {
      "displayName": "Jeevitha Chandrasekar",
      "userId": "02238115109523565380"
     },
     "user_tz": 300
    },
    "id": "VkeL9oPEO31N",
    "outputId": "684a5ec7-ce26-48df-b0c8-ca2311caa879"
   },
   "outputs": [
    {
     "data": {
      "image/png": "[encoded data removed]",
      "text/plain": [
       "<Figure size 640x480 with 1 Axes>"
      ]
     },
     "metadata": {},
     "output_type": "display_data"
    }
   ],
   "source": [
    "# Group data by Hour\n",
    "accidents_by_hour = data.groupby('Hour').size()\n",
    "\n",
    "# Line plot\n",
    "plt.plot(accidents_by_hour.index, accidents_by_hour.values, marker='o')\n",
    "plt.title('Accidents by Hour')\n",
    "plt.xlabel('Hour of the Day')\n",
    "plt.ylabel('Number of Accidents')\n",
    "plt.xticks(range(0, 24))\n",
    "plt.grid()\n",
    "plt.show()\n"
   ]
  },
  {
   "cell_type": "markdown",
   "metadata": {
    "id": "1kiQ8Un1MA5W"
   },
   "source": [
    "#### **4. ONE TAIL Z-TEST**"
   ]
  },
  {
   "cell_type": "markdown",
   "metadata": {
    "id": "RUugljEbLHAq"
   },
   "source": [
    "- Perform one-tail z-test"
   ]
  },
  {
   "cell_type": "code",
   "execution_count": 13,
   "metadata": {
    "id": "d1xAzpX4JM3a"
   },
   "outputs": [],
   "source": [
    "# Step 2: Hypothesis testing\n",
    "# H0: p_evening <= p_daytime, Ha: p_evening > p_daytime\n",
    "count = np.array([evening_accidents, daytime_accidents])  # Counts of successes\n",
    "nobs = total_accidents  # Total number of observations\n",
    "\n",
    "# Perform one-tailed z-test\n",
    "stat, p_value = proportions_ztest(count[0], nobs, value=p_daytime, alternative='larger')\n",
    "\n"
   ]
  },
  {
   "cell_type": "markdown",
   "metadata": {
    "id": "J5kuGeEaLR3_"
   },
   "source": [
    "- Use the test statistic and p-value to decide whether to reject or fail to reject the null hypothesis."
   ]
  },
  {
   "cell_type": "code",
   "execution_count": 14,
   "metadata": {
    "colab": {
     "base_uri": "https://localhost:8080/"
    },
    "executionInfo": {
     "elapsed": 14,
     "status": "ok",
     "timestamp": 1737520868844,
     "user": {
      "displayName": "Jeevitha Chandrasekar",
      "userId": "02238115109523565380"
     },
     "user_tz": 300
    },
    "id": "mnBpqBXYJP30",
    "outputId": "206670d1-800a-4b4d-e57a-b28690725591"
   },
   "outputs": [
    {
     "name": "stdout",
     "output_type": "stream",
     "text": [
      "Test Statistic: -70.00932074686195\n",
      "P-Value: 1.0\n",
      "Fail to reject the null hypothesis.\n",
      "    Failed to reject that the proportion of accidents in the evening is less than or equal to the proportion of accidents at other times of the day\n"
     ]
    }
   ],
   "source": [
    "# Step 3: Significance level\n",
    "alpha = 0.05  # 5% significance level\n",
    "\n",
    "print(\"Test Statistic:\", stat)\n",
    "print(\"P-Value:\", p_value)\n",
    "\n",
    "if p_value < alpha:\n",
    "    print('''Reject the null hypothesis.\n",
    "    The proportion of accidents in the evening is less than or equal to the proportion of accidents at other times of the day is rejected.''')\n",
    "else:\n",
    "    print('''Fail to reject the null hypothesis.\n",
    "    Failed to reject that the proportion of accidents in the evening is less than or equal to the proportion of accidents at other times of the day''')"
   ]
  },
  {
   "cell_type": "markdown",
   "metadata": {
    "id": "hMw9uXzTQ4HS"
   },
   "source": [
    "#### **5. RESULT**"
   ]
  },
  {
   "cell_type": "markdown",
   "metadata": {
    "id": "BOorEqKNLlnz"
   },
   "source": [
    "- The p-value is less that the alpha.\n",
    "- Hence, we fail to reject the null hypothesis.\n",
    "- We fail to reject that the proportion of accidents in the evening is less than or equal to the proportion of accidents at other times of the day.\n",
    "\n"
   ]
  }
 ],
 "metadata": {
  "colab": {
   "authorship_tag": "ABX9TyMNOOpT0VbTvAiWCtZQvstZ",
   "provenance": []
  },
  "kernelspec": {
   "display_name": "venv",
   "language": "python",
   "name": "python3"
  },
  "language_info": {
   "codemirror_mode": {
    "name": "ipython",
    "version": 3
   },
   "file_extension": ".py",
   "mimetype": "text/x-python",
   "name": "python",
   "nbconvert_exporter": "python",
   "pygments_lexer": "ipython3",
   "version": "3.11.7"
  }
 },
 "nbformat": 4,
 "nbformat_minor": 0
}
